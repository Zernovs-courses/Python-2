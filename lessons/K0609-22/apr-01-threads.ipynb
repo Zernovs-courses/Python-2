{
 "cells": [
  {
   "cell_type": "markdown",
   "metadata": {},
   "source": [
    "# Threading (потоки)"
   ]
  },
  {
   "cell_type": "code",
   "execution_count": 6,
   "metadata": {},
   "outputs": [
    {
     "name": "stderr",
     "output_type": "stream",
     "text": [
      "17:22:48: Main : before creating thread\n",
      "17:22:48: Main : before running thread\n",
      "17:22:48: Thread 1: starting\n",
      "17:22:50: Thread 1: finishing\n",
      "17:22:50: Thread 2: starting\n",
      "17:22:52: Thread 2: finishing\n",
      "17:22:52: Thread 3: starting\n",
      "17:22:54: Thread 3: finishing\n",
      "17:22:54: Main : wait for thread to finish\n",
      "17:22:54: Main : all done\n"
     ]
    }
   ],
   "source": [
    "import logging\n",
    "import threading\n",
    "import time\n",
    "\n",
    "\n",
    "def thread_fun(name):\n",
    "    logging.info(f\"Thread {name}: starting\")\n",
    "    time.sleep(2)\n",
    "    logging.info(f\"Thread {name}: finishing\")\n",
    "\n",
    "if __name__ == \"__main__\":\n",
    "    format = \"%(asctime)s: %(message)s\"\n",
    "    logging.basicConfig(format=format, level=logging.INFO, datefmt=\"%H:%M:%S\")\n",
    "\n",
    "    logging.info(\"Main : before creating thread\")\n",
    "\n",
    "    logging.info(\"Main : before running thread\")\n",
    "\n",
    "    thread_fun(1)\n",
    "    thread_fun(2)\n",
    "    thread_fun(3)\n",
    "\n",
    "    logging.info(\"Main : wait for thread to finish\")\n",
    "\n",
    "    logging.info(\"Main : all done\")"
   ]
  },
  {
   "cell_type": "code",
   "execution_count": 4,
   "metadata": {},
   "outputs": [
    {
     "name": "stderr",
     "output_type": "stream",
     "text": [
      "17:08:06: Main : before creating thread\n",
      "17:08:06: Main : before running thread\n",
      "17:08:06: Thread 1: starting\n",
      "17:08:06: Main : wait for thread to finish\n",
      "17:08:06: Main : all done\n"
     ]
    },
    {
     "name": "stderr",
     "output_type": "stream",
     "text": [
      "17:08:08: Thread 1: finishing\n"
     ]
    }
   ],
   "source": [
    "import logging\n",
    "import threading\n",
    "import time\n",
    "\n",
    "\n",
    "def thread_fun(name):\n",
    "    logging.info(f\"Thread {name}: starting\")\n",
    "    time.sleep(2)\n",
    "    logging.info(f\"Thread {name}: finishing\")\n",
    "\n",
    "if __name__ == \"__main__\":\n",
    "    format = \"%(asctime)s: %(message)s\"\n",
    "    logging.basicConfig(format=format, level=logging.INFO, datefmt=\"%H:%M:%S\")\n",
    "\n",
    "    logging.info(\"Main : before creating thread\")\n",
    "\n",
    "    x = threading.Thread(target=thread_fun, args=(1,))\n",
    "\n",
    "    logging.info(\"Main : before running thread\")\n",
    "\n",
    "    x.start()\n",
    "\n",
    "    logging.info(\"Main : wait for thread to finish\")\n",
    "\n",
    "    logging.info(\"Main : all done\")"
   ]
  },
  {
   "cell_type": "code",
   "execution_count": 7,
   "metadata": {},
   "outputs": [
    {
     "name": "stderr",
     "output_type": "stream",
     "text": [
      "17:24:23: Main : before creating thread\n",
      "17:24:23: Main : before running thread\n",
      "17:24:24: Thread 1: starting\n",
      "17:24:24: Main : wait for thread to finish\n",
      "17:24:26: Thread 1: finishing\n",
      "17:24:26: Main : all done\n"
     ]
    }
   ],
   "source": [
    "import logging\n",
    "import threading\n",
    "import time\n",
    "\n",
    "\n",
    "def thread_fun(name):\n",
    "    logging.info(f\"Thread {name}: starting\")\n",
    "    time.sleep(2)\n",
    "    logging.info(f\"Thread {name}: finishing\")\n",
    "\n",
    "if __name__ == \"__main__\":\n",
    "    format = \"%(asctime)s: %(message)s\"\n",
    "    logging.basicConfig(format=format, level=logging.INFO, datefmt=\"%H:%M:%S\")\n",
    "\n",
    "    logging.info(\"Main : before creating thread\")\n",
    "\n",
    "    x = threading.Thread(target=thread_fun, args=(1,))\n",
    "\n",
    "    logging.info(\"Main : before running thread\")\n",
    "\n",
    "    x.start()\n",
    "\n",
    "    logging.info(\"Main : wait for thread to finish\")\n",
    "    x.join()\n",
    "    \n",
    "    logging.info(\"Main : all done\")"
   ]
  },
  {
   "cell_type": "code",
   "execution_count": 13,
   "metadata": {},
   "outputs": [
    {
     "name": "stderr",
     "output_type": "stream",
     "text": [
      "17:35:49: Main : create and run thread 0\n",
      "17:35:49: Thread 0: starting\n",
      "17:35:49: Main : create and run thread 1\n",
      "17:35:49: Thread 1: starting\n",
      "17:35:49: Main : create and run thread 2\n",
      "17:35:49: Thread 2: starting\n",
      "17:35:49: -------------------------\n",
      "17:35:49: Main : wait for thread 0 to finish\n",
      "17:35:51: Thread 0: finishing\n",
      "17:35:51: Main : thread 0 done\n",
      "17:35:51: Thread 1: finishing\n",
      "17:35:51: Main : wait for thread 1 to finish\n",
      "17:35:51: Main : thread 1 done\n",
      "17:35:51: Thread 2: finishing\n",
      "17:35:51: Main : wait for thread 2 to finish\n",
      "17:35:51: Main : thread 2 done\n"
     ]
    }
   ],
   "source": [
    "import logging\n",
    "import threading\n",
    "import time\n",
    "\n",
    "\n",
    "def thread_fun(name):\n",
    "    logging.info(f\"Thread {name}: starting\")\n",
    "    time.sleep(2)\n",
    "    logging.info(f\"Thread {name}: finishing\")\n",
    "\n",
    "if __name__ == \"__main__\":\n",
    "    format = \"%(asctime)s: %(message)s\"\n",
    "    logging.basicConfig(format=format, level=logging.INFO, datefmt=\"%H:%M:%S\")\n",
    "\n",
    "\n",
    "    threads = []\n",
    "    for i in range(3):\n",
    "        logging.info(f\"Main : create and run thread {i}\")\n",
    "        x = threading.Thread(target=thread_fun, args=(i,))\n",
    "        threads.append(x)\n",
    "        x.start()\n",
    "\n",
    "    logging.info(\"-------------------------\")\n",
    "    \n",
    "    for i, t in enumerate(threads):\n",
    "        logging.info(f\"Main : wait for thread {i} to finish\")\n",
    "        t.join()\n",
    "        logging.info(f\"Main : thread {i} done\")"
   ]
  },
  {
   "cell_type": "code",
   "execution_count": 22,
   "metadata": {},
   "outputs": [
    {
     "name": "stderr",
     "output_type": "stream",
     "text": [
      "17:45:39: Thread John: starting\n",
      "17:45:39: Thread Jane: starting\n",
      "17:45:39: Thread Jimmy: starting\n",
      "17:45:41: Thread John: finishing\n",
      "17:45:41: Thread Josh: starting\n",
      "17:45:41: Thread Jane: finishing\n",
      "17:45:41: Thread Jimmy: finishing\n",
      "17:45:41: Thread Jeremy: starting\n",
      "17:45:43: Thread Josh: finishing\n",
      "17:45:43: Thread Jeremy: finishing\n"
     ]
    }
   ],
   "source": [
    "import logging\n",
    "import threading\n",
    "import time\n",
    "from concurrent.futures import ThreadPoolExecutor\n",
    "\n",
    "\n",
    "def thread_fun(name):\n",
    "    logging.info(f\"Thread {name}: starting\")\n",
    "    time.sleep(2)\n",
    "    logging.info(f\"Thread {name}: finishing\")\n",
    "\n",
    "if __name__ == \"__main__\":\n",
    "    format = \"%(asctime)s: %(message)s\"\n",
    "    logging.basicConfig(format=format, level=logging.INFO, datefmt=\"%H:%M:%S\")\n",
    "\n",
    "\n",
    "    with ThreadPoolExecutor(max_workers=3) as executor:\n",
    "        executor.map(thread_fun, ['John', 'Jane', 'Jimmy', 'Josh', 'Jeremy'])"
   ]
  },
  {
   "cell_type": "markdown",
   "metadata": {},
   "source": [
    "## Race conditions (состояние гонки)"
   ]
  },
  {
   "cell_type": "code",
   "execution_count": 25,
   "metadata": {},
   "outputs": [
    {
     "name": "stderr",
     "output_type": "stream",
     "text": [
      "17:56:29: Testing update. Starting value is 0\n",
      "17:56:29: Thread 0: starting update\n",
      "17:56:29: Thread 1: starting update\n",
      "17:56:29: Thread 0: finishing update\n",
      "17:56:29: Thread 1: finishing update\n",
      "17:56:29: Testing update. Ending value is 1\n"
     ]
    }
   ],
   "source": [
    "class FakeDatabase:\n",
    "    def __init__(self):\n",
    "        self.value = 0\n",
    "\n",
    "    def update(self, name):\n",
    "        logging.info(f\"Thread {name}: starting update\")\n",
    "        local_copy = self.value\n",
    "        local_copy += 1\n",
    "        time.sleep(0.1)\n",
    "        self.value = local_copy\n",
    "        logging.info(f\"Thread {name}: finishing update\")\n",
    "\n",
    "\n",
    "if __name__ == \"__main__\":\n",
    "    format = \"%(asctime)s: %(message)s\"\n",
    "    logging.basicConfig(format=format, level=logging.INFO, datefmt=\"%H:%M:%S\")\n",
    "\n",
    "    db = FakeDatabase()\n",
    "    logging.info(f\"Testing update. Starting value is {db.value}\")\n",
    "\n",
    "    with ThreadPoolExecutor(max_workers=2) as executor:\n",
    "        for i in range(2):\n",
    "            executor.submit(db.update, i)\n",
    "            \n",
    "    logging.info(f\"Testing update. Ending value is {db.value}\")\n"
   ]
  },
  {
   "cell_type": "code",
   "execution_count": 32,
   "metadata": {},
   "outputs": [
    {
     "name": "stderr",
     "output_type": "stream",
     "text": [
      "18:01:31: Testing update. Starting value is 0\n",
      "18:01:31: Thread 0: starting update\n",
      "18:01:31: Thread 1: starting update\n",
      "18:01:31: Thread 1 about to lock\n",
      "18:01:31: Thread 1 has lock\n",
      "18:01:31: Thread 0 about to lock\n",
      "18:01:32: Thread 1 about to release lock\n",
      "18:01:32: Thread 1 after release\n",
      "18:01:32: Thread 0 has lock\n",
      "18:01:32: Thread 1: finishing update\n",
      "18:01:32: Thread 0 about to release lock\n",
      "18:01:32: Thread 0 after release\n",
      "18:01:32: Thread 0: finishing update\n",
      "18:01:32: Testing update. Ending value is 2\n"
     ]
    }
   ],
   "source": [
    "class FakeDatabase:\n",
    "    def __init__(self):\n",
    "        self.value = 0\n",
    "        self._lock = threading.Lock()\n",
    "\n",
    "    def locked_update(self, name):\n",
    "        logging.info(f\"Thread {name}: starting update\")\n",
    "        logging.info(f\"Thread {name} about to lock\")\n",
    "        with self._lock:\n",
    "            logging.info(f\"Thread {name} has lock\")\n",
    "            local_copy = self.value\n",
    "            local_copy += 1\n",
    "            time.sleep(0.1)\n",
    "            self.value = local_copy\n",
    "            logging.info(f\"Thread {name} about to release lock\")\n",
    "        \n",
    "        logging.info(f\"Thread {name} after release\")\n",
    "        logging.info(f\"Thread {name}: finishing update\")\n",
    "\n",
    "\n",
    "if __name__ == \"__main__\":\n",
    "    format = \"%(asctime)s: %(message)s\"\n",
    "    logging.basicConfig(format=format, level=logging.INFO, datefmt=\"%H:%M:%S\")\n",
    "\n",
    "    db = FakeDatabase()\n",
    "    logging.info(f\"Testing update. Starting value is {db.value}\")\n",
    "\n",
    "    with ThreadPoolExecutor(max_workers=2) as executor:\n",
    "        for i in range(2):\n",
    "            executor.submit(db.locked_update, i)\n",
    "            \n",
    "    logging.info(f\"Testing update. Ending value is {db.value}\")\n"
   ]
  },
  {
   "cell_type": "markdown",
   "metadata": {},
   "source": [
    "## Deadlock"
   ]
  },
  {
   "cell_type": "code",
   "execution_count": 33,
   "metadata": {},
   "outputs": [
    {
     "name": "stdout",
     "output_type": "stream",
     "text": [
      "before first acquire\n",
      "before second acquire\n"
     ]
    },
    {
     "ename": "KeyboardInterrupt",
     "evalue": "",
     "output_type": "error",
     "traceback": [
      "\u001b[0;31m---------------------------------------------------------------------------\u001b[0m",
      "\u001b[0;31mKeyboardInterrupt\u001b[0m                         Traceback (most recent call last)",
      "Cell \u001b[0;32mIn[33], line 7\u001b[0m\n\u001b[1;32m      5\u001b[0m l\u001b[38;5;241m.\u001b[39macquire()\n\u001b[1;32m      6\u001b[0m \u001b[38;5;28mprint\u001b[39m(\u001b[38;5;124m'\u001b[39m\u001b[38;5;124mbefore second acquire\u001b[39m\u001b[38;5;124m'\u001b[39m)\n\u001b[0;32m----> 7\u001b[0m \u001b[43ml\u001b[49m\u001b[38;5;241;43m.\u001b[39;49m\u001b[43macquire\u001b[49m\u001b[43m(\u001b[49m\u001b[43m)\u001b[49m\n\u001b[1;32m      8\u001b[0m \u001b[38;5;28mprint\u001b[39m(\u001b[38;5;124m'\u001b[39m\u001b[38;5;124macquired lock twice\u001b[39m\u001b[38;5;124m'\u001b[39m)\n",
      "\u001b[0;31mKeyboardInterrupt\u001b[0m: "
     ]
    }
   ],
   "source": [
    "import threading\n",
    "\n",
    "l = threading.Lock()\n",
    "print('before first acquire')\n",
    "l.acquire()\n",
    "print('before second acquire')\n",
    "l.acquire()\n",
    "print('acquired lock twice')\n"
   ]
  }
 ],
 "metadata": {
  "kernelspec": {
   "display_name": ".venv",
   "language": "python",
   "name": "python3"
  },
  "language_info": {
   "codemirror_mode": {
    "name": "ipython",
    "version": 3
   },
   "file_extension": ".py",
   "mimetype": "text/x-python",
   "name": "python",
   "nbconvert_exporter": "python",
   "pygments_lexer": "ipython3",
   "version": "3.12.0"
  }
 },
 "nbformat": 4,
 "nbformat_minor": 2
}
