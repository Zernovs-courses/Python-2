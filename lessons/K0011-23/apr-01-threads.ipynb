{
 "cells": [
  {
   "cell_type": "markdown",
   "metadata": {},
   "source": [
    "# Threading (потоки)"
   ]
  },
  {
   "cell_type": "code",
   "execution_count": 6,
   "metadata": {},
   "outputs": [
    {
     "name": "stderr",
     "output_type": "stream",
     "text": [
      "15:28:25: Main: before creating thread\n",
      "15:28:25: Main: before running thread\n",
      "15:28:25: Thread 1: starting\n",
      "15:28:25: Main: waiting for the thread to finish\n",
      "15:28:25: Main: all done\n"
     ]
    },
    {
     "name": "stderr",
     "output_type": "stream",
     "text": [
      "15:28:27: Thread 1: finishing\n"
     ]
    }
   ],
   "source": [
    "import threading\n",
    "import logging\n",
    "import time\n",
    "\n",
    "def thread_function(name):\n",
    "    logging.info(f\"Thread {name}: starting\")\n",
    "    time.sleep(2)\n",
    "    logging.info(f\"Thread {name}: finishing\")\n",
    "\n",
    "\n",
    "if __name__ == \"__main__\":\n",
    "    format = \"%(asctime)s: %(message)s\"\n",
    "    logging.basicConfig(format=format, level=logging.INFO, datefmt=\"%H:%M:%S\")\n",
    "\n",
    "    logging.info(\"Main: before creating thread\")\n",
    "\n",
    "    x = threading.Thread(target=thread_function, args=(1,))\n",
    "\n",
    "    logging.info(\"Main: before running thread\")\n",
    "\n",
    "    x.start()\n",
    "\n",
    "    logging.info(\"Main: waiting for the thread to finish\")\n",
    "\n",
    "    logging.info(\"Main: all done\")"
   ]
  },
  {
   "cell_type": "code",
   "execution_count": 7,
   "metadata": {},
   "outputs": [
    {
     "name": "stderr",
     "output_type": "stream",
     "text": [
      "15:34:41: Main: before creating thread\n",
      "15:34:41: Main: before running thread\n",
      "15:34:41: Thread 1: starting\n",
      "15:34:41: Main: waiting for the thread to finish\n",
      "15:34:41: Main: all done\n"
     ]
    },
    {
     "name": "stderr",
     "output_type": "stream",
     "text": [
      "15:34:43: Thread 1: finishing\n"
     ]
    }
   ],
   "source": [
    "import threading\n",
    "import logging\n",
    "import time\n",
    "\n",
    "from numpy import True_\n",
    "\n",
    "def thread_function(name):\n",
    "    logging.info(f\"Thread {name}: starting\")\n",
    "    time.sleep(2)\n",
    "    logging.info(f\"Thread {name}: finishing\")\n",
    "\n",
    "\n",
    "if __name__ == \"__main__\":\n",
    "    format = \"%(asctime)s: %(message)s\"\n",
    "    logging.basicConfig(format=format, level=logging.INFO, datefmt=\"%H:%M:%S\")\n",
    "\n",
    "    logging.info(\"Main: before creating thread\")\n",
    "\n",
    "    x = threading.Thread(target=thread_function, args=(1,), daemon=True)\n",
    "\n",
    "    logging.info(\"Main: before running thread\")\n",
    "\n",
    "    x.start()\n",
    "\n",
    "    logging.info(\"Main: waiting for the thread to finish\")\n",
    "\n",
    "    logging.info(\"Main: all done\")"
   ]
  },
  {
   "cell_type": "code",
   "execution_count": 8,
   "metadata": {},
   "outputs": [
    {
     "name": "stderr",
     "output_type": "stream",
     "text": [
      "15:38:17: Main: before creating thread\n",
      "15:38:17: Main: before running thread\n",
      "15:38:17: Thread 1: starting\n",
      "15:38:17: Main: waiting for the thread to finish\n",
      "15:38:19: Thread 1: finishing\n",
      "15:38:19: Main: all done\n"
     ]
    }
   ],
   "source": [
    "import threading\n",
    "import logging\n",
    "import time\n",
    "\n",
    "def thread_function(name):\n",
    "    logging.info(f\"Thread {name}: starting\")\n",
    "    time.sleep(2)\n",
    "    logging.info(f\"Thread {name}: finishing\")\n",
    "\n",
    "\n",
    "if __name__ == \"__main__\":\n",
    "    format = \"%(asctime)s: %(message)s\"\n",
    "    logging.basicConfig(format=format, level=logging.INFO, datefmt=\"%H:%M:%S\")\n",
    "\n",
    "    logging.info(\"Main: before creating thread\")\n",
    "\n",
    "    x = threading.Thread(target=thread_function, args=(1,), daemon=True)\n",
    "\n",
    "    logging.info(\"Main: before running thread\")\n",
    "\n",
    "    x.start()\n",
    "\n",
    "    logging.info(\"Main: waiting for the thread to finish\")\n",
    "\n",
    "    x.join() # ждем завершения потока\n",
    "\n",
    "    logging.info(\"Main: all done\")"
   ]
  },
  {
   "cell_type": "code",
   "execution_count": 14,
   "metadata": {},
   "outputs": [
    {
     "name": "stderr",
     "output_type": "stream",
     "text": [
      "15:48:48: Main: create and start thread 0\n",
      "15:48:48: Thread 0: starting\n",
      "15:48:48: Main: create and start thread 1\n",
      "15:48:48: Thread 1: starting\n",
      "15:48:48: Main: create and start thread 2\n",
      "15:48:48: Thread 2: starting\n",
      "15:48:48: --------\n",
      "15:48:48: Main: before joining thread 0\n",
      "15:48:50: Thread 0: finishing\n",
      "15:48:50: Main: thread 0 done\n",
      "15:48:50: Main: before joining thread 1\n",
      "15:48:50: Thread 1: finishing\n",
      "15:48:50: Main: thread 1 done\n",
      "15:48:50: Thread 2: finishing\n",
      "15:48:50: Main: before joining thread 2\n",
      "15:48:50: Main: thread 2 done\n"
     ]
    }
   ],
   "source": [
    "import threading\n",
    "import logging\n",
    "import time\n",
    "\n",
    "def thread_function(name):\n",
    "    logging.info(f\"Thread {name}: starting\")\n",
    "    time.sleep(2)\n",
    "    logging.info(f\"Thread {name}: finishing\")\n",
    "\n",
    "\n",
    "if __name__ == \"__main__\":\n",
    "    format = \"%(asctime)s: %(message)s\"\n",
    "    logging.basicConfig(format=format, level=logging.INFO, datefmt=\"%H:%M:%S\")\n",
    "\n",
    "    threads = []\n",
    "    for i in range(3):\n",
    "        logging.info(f\"Main: create and start thread {i}\")\n",
    "\n",
    "        x = threading.Thread(target=thread_function, args=(i,))\n",
    "        threads.append(x)\n",
    "        x.start()\n",
    "    logging.info(\"--------\")\n",
    "    for i, th in enumerate(threads):\n",
    "        logging.info(f\"Main: before joining thread {i}\")\n",
    "        th.join()\n",
    "        logging.info(f\"Main: thread {i} done\")"
   ]
  },
  {
   "cell_type": "code",
   "execution_count": 19,
   "metadata": {},
   "outputs": [
    {
     "name": "stderr",
     "output_type": "stream",
     "text": [
      "15:53:20: Thread 0: starting\n",
      "15:53:20: Thread 1: starting\n",
      "15:53:20: Thread 2: starting\n",
      "15:53:20: Thread 3: starting\n",
      "15:53:20: Thread 4: starting\n",
      "15:53:20: Thread 5: starting\n",
      "15:53:20: Thread 6: starting\n",
      "15:53:20: Thread 7: starting\n",
      "15:53:20: Thread 8: starting\n",
      "15:53:20: Thread 9: starting\n",
      "15:53:22: Thread 0: finishing\n",
      "15:53:22: Thread 1: finishing\n",
      "15:53:22: Thread 2: finishing\n",
      "15:53:22: Thread 3: finishing\n",
      "15:53:22: Thread 4: finishing\n",
      "15:53:22: Thread 5: finishing\n",
      "15:53:22: Thread 6: finishing\n",
      "15:53:22: Thread 7: finishing\n",
      "15:53:22: Thread 8: finishing\n",
      "15:53:22: Thread 9: finishing\n"
     ]
    }
   ],
   "source": [
    "import threading\n",
    "import logging\n",
    "import time\n",
    "import concurrent.futures\n",
    "\n",
    "def thread_function(name):\n",
    "    logging.info(f\"Thread {name}: starting\")\n",
    "    time.sleep(2)\n",
    "    logging.info(f\"Thread {name}: finishing\")\n",
    "\n",
    "\n",
    "if __name__ == \"__main__\":\n",
    "    format = \"%(asctime)s: %(message)s\"\n",
    "    logging.basicConfig(format=format, level=logging.INFO, datefmt=\"%H:%M:%S\")\n",
    "\n",
    "    n = 10\n",
    "    with concurrent.futures.ThreadPoolExecutor(max_workers=n) as executor:\n",
    "        executor.map(thread_function, range(n))"
   ]
  },
  {
   "cell_type": "markdown",
   "metadata": {},
   "source": [
    "## Race conditions (состояние гонки)"
   ]
  },
  {
   "cell_type": "code",
   "execution_count": 20,
   "metadata": {},
   "outputs": [],
   "source": [
    "class FakeDatabase:\n",
    "    def __init__(self):\n",
    "        self.value = 0\n",
    "\n",
    "    def update(self, name):\n",
    "        logging.info(f\"Thread {name}: starting update\")\n",
    "        local_copy = self.value\n",
    "        local_copy += 1\n",
    "        time.sleep(0.1)\n",
    "        self.value = local_copy\n",
    "        logging.info(f\"Thread {name}: finishing update\")"
   ]
  },
  {
   "cell_type": "code",
   "execution_count": 21,
   "metadata": {},
   "outputs": [
    {
     "name": "stderr",
     "output_type": "stream",
     "text": [
      "16:07:05: Testing update. Starting value is 0\n",
      "16:07:05: Thread 0: starting update\n",
      "16:07:05: Thread 1: starting update\n",
      "16:07:05: Thread 0: finishing update\n",
      "16:07:05: Thread 1: finishing update\n",
      "16:07:05: Testing update. Ending value is 1\n"
     ]
    }
   ],
   "source": [
    "if __name__ == \"__main__\":\n",
    "    format = \"%(asctime)s: %(message)s\"\n",
    "    logging.basicConfig(format=format, level=logging.INFO, datefmt=\"%H:%M:%S\")\n",
    "\n",
    "    db = FakeDatabase()\n",
    "    logging.info(f\"Testing update. Starting value is {db.value}\")\n",
    "\n",
    "    with concurrent.futures.ThreadPoolExecutor(max_workers=2) as executor:\n",
    "        for i in range(2):\n",
    "            executor.submit(db.update, i)\n",
    "            \n",
    "    logging.info(f\"Testing update. Ending value is {db.value}\")\n"
   ]
  },
  {
   "cell_type": "code",
   "execution_count": 24,
   "metadata": {},
   "outputs": [],
   "source": [
    "class FakeDatabase:\n",
    "    def __init__(self):\n",
    "        self.value = 0\n",
    "        self._lock = threading.Lock()\n",
    "\n",
    "    def locked_update(self, name):\n",
    "        logging.info(f\"Thread {name}: starting update\")\n",
    "        logging.info(f\"Thread {name} about to lock\")\n",
    "        with self._lock:\n",
    "            logging.info(f\"Thread {name} has lock\")\n",
    "            local_copy = self.value\n",
    "            local_copy += 1\n",
    "            time.sleep(0.1)\n",
    "            self.value = local_copy\n",
    "            logging.info(f\"Thread {name} about to release lock\")\n",
    "        \n",
    "        logging.info(f\"Thread {name} after release\")\n",
    "        logging.info(f\"Thread {name}: finishing update\")"
   ]
  },
  {
   "cell_type": "code",
   "execution_count": 31,
   "metadata": {},
   "outputs": [
    {
     "name": "stderr",
     "output_type": "stream",
     "text": [
      "16:19:59: Testing update. Starting value is 0\n",
      "16:19:59: Thread 0: starting update\n",
      "16:19:59: Thread 0 about to lock\n",
      "16:19:59: Thread 1: starting update\n",
      "16:19:59: Thread 0 has lock\n",
      "16:19:59: Thread 1 about to lock\n",
      "16:19:59: Thread 0 about to release lock\n",
      "16:19:59: Thread 0 after release\n",
      "16:19:59: Thread 1 has lock\n",
      "16:19:59: Thread 0: finishing update\n",
      "16:19:59: Thread 1 about to release lock\n",
      "16:19:59: Thread 1 after release\n",
      "16:19:59: Thread 1: finishing update\n",
      "16:19:59: Testing update. Ending value is 2\n"
     ]
    }
   ],
   "source": [
    "if __name__ == \"__main__\":\n",
    "    format = \"%(asctime)s: %(message)s\"\n",
    "    logging.basicConfig(format=format, level=logging.INFO, datefmt=\"%H:%M:%S\")\n",
    "\n",
    "    db = FakeDatabase()\n",
    "    logging.info(f\"Testing update. Starting value is {db.value}\")\n",
    "\n",
    "    with concurrent.futures.ThreadPoolExecutor(max_workers=2) as executor:\n",
    "        for i in range(2):\n",
    "            executor.submit(db.locked_update, i)\n",
    "            \n",
    "    logging.info(f\"Testing update. Ending value is {db.value}\")\n"
   ]
  }
 ],
 "metadata": {
  "kernelspec": {
   "display_name": ".venv",
   "language": "python",
   "name": "python3"
  },
  "language_info": {
   "codemirror_mode": {
    "name": "ipython",
    "version": 3
   },
   "file_extension": ".py",
   "mimetype": "text/x-python",
   "name": "python",
   "nbconvert_exporter": "python",
   "pygments_lexer": "ipython3",
   "version": "3.12.0"
  }
 },
 "nbformat": 4,
 "nbformat_minor": 2
}
